{
 "cells": [
  {
   "cell_type": "markdown",
   "id": "f0a41b51-0180-42db-9856-689a1e2ac184",
   "metadata": {},
   "source": [
    "# Function Approximation using Fully Connected Neural Network\n",
    "\n",
    "## Project Overview\n",
    "This project implements a fully connected neural network for function approximation, where the model learns the relationship between input variables (x, y, z) and output function f(x,y,z). The network is trained to approximate the mathematical function: \n",
    "\n",
    "**f(x,y,z) = 3x²y³ - 4z²y² + 3yz**\n",
    "\n",
    "## 🏗️ Architecture\n",
    "The network uses a fully connected (dense) architecture with:\n",
    "\n",
    "| Layer | Neurons | Activation | Purpose |\n",
    "|-------|---------|------------|---------|\n",
    "| Input | 3 | - | Receives (x, y, z) coordinates |\n",
    "| Hidden 1 | 4 | ReLU | Feature transformation |\n",
    "| Hidden 2 | 3 | ReLU | Non-linear mapping |\n",
    "| Output | 1 | Linear | Regression output |\n",
    "\n",
    "## 📊 Dataset\n",
    "- **Type**: Synthetic dataset\n",
    "- **Samples**: 400\n",
    "- **Input Range**: Random integers [0, 20]\n",
    "- **Target**: Polynomial function values\n",
    "\n",
    "## 🔧 Implementation\n",
    "\n",
    "### 1. Data Generation Function\n",
    "```python\n",
    "def data_generation(x,y,z):\n",
    "    f = (3 * x**2 * y**3) - (4 * z**2 * y**2) + (3 * y * z)\n",
    "    return f"
   ]
  },
  {
   "cell_type": "code",
   "execution_count": 57,
   "id": "6f1dc1e3-33e1-48c1-8eb7-a4f722374739",
   "metadata": {},
   "outputs": [],
   "source": [
    "def data_generation(x,y,z):\n",
    "    f = (3 * x**2 * y**3) - (4 * z**2 * y**2) + (3 * y * z)\n",
    "    return(f)"
   ]
  },
  {
   "cell_type": "code",
   "execution_count": 58,
   "id": "d09311f0-aea7-48da-a99e-0c37e646d0ee",
   "metadata": {},
   "outputs": [
    {
     "data": {
      "text/plain": [
       "2"
      ]
     },
     "execution_count": 58,
     "metadata": {},
     "output_type": "execute_result"
    }
   ],
   "source": [
    "data_generation(2,1,2)"
   ]
  },
  {
   "cell_type": "code",
   "execution_count": 59,
   "id": "24996c97-062b-47fd-a58c-0872856d86a5",
   "metadata": {},
   "outputs": [],
   "source": [
    "import torch"
   ]
  },
  {
   "cell_type": "code",
   "execution_count": 94,
   "id": "d86b811c-4dd7-45b1-b904-e62b23151bda",
   "metadata": {},
   "outputs": [],
   "source": [
    "feature = torch.randint(low=0, high=20, size=(3,400)).float()"
   ]
  },
  {
   "cell_type": "code",
   "execution_count": 95,
   "id": "949c50e0-2fec-4fc8-a723-ba2c6e798c88",
   "metadata": {},
   "outputs": [
    {
     "data": {
      "text/plain": [
       "tensor([[ 8.,  2.,  6.,  ..., 19., 12., 16.],\n",
       "        [15.,  1., 13.,  ...,  0.,  6.,  4.],\n",
       "        [ 3.,  7., 18.,  ...,  9., 18.,  3.]])"
      ]
     },
     "execution_count": 95,
     "metadata": {},
     "output_type": "execute_result"
    }
   ],
   "source": [
    "feature"
   ]
  },
  {
   "cell_type": "code",
   "execution_count": 96,
   "id": "cd89b729-30dc-4a65-93d4-46ef3a7b98ee",
   "metadata": {},
   "outputs": [
    {
     "data": {
      "text/plain": [
       "torch.Size([3, 400])"
      ]
     },
     "execution_count": 96,
     "metadata": {},
     "output_type": "execute_result"
    }
   ],
   "source": [
    "feature.shape"
   ]
  },
  {
   "cell_type": "code",
   "execution_count": 97,
   "id": "87c03561-e11a-4609-a973-a3b23b80a5f3",
   "metadata": {},
   "outputs": [],
   "source": [
    "label= data_generation(feature[0,:], feature[1,:],feature[2,:]).float()"
   ]
  },
  {
   "cell_type": "code",
   "execution_count": 98,
   "id": "c72a1b3e-194a-4ceb-8926-f68363eb47b0",
   "metadata": {
    "scrolled": true
   },
   "outputs": [
    {
     "data": {
      "text/plain": [
       "tensor([ 6.4004e+05, -1.6300e+02,  1.8954e+04,  1.0222e+06, -1.2520e+03,\n",
       "         2.3207e+05, -6.7600e+02,  8.3678e+05,  2.0880e+06,  2.3364e+06,\n",
       "        -1.2540e+03,  6.8400e+02,  2.8453e+05,  2.3600e+04,  5.9976e+04,\n",
       "         1.8601e+05,  2.5920e+03,  3.5350e+06,  2.4300e+02,  3.1047e+06,\n",
       "        -5.4894e+04,  3.9973e+06,  6.3200e+02,  4.6676e+05,  0.0000e+00,\n",
       "         1.2992e+04,  1.9683e+04,  7.6172e+05, -1.8000e+02, -1.4139e+05,\n",
       "         1.3531e+06,  9.6320e+04,  0.0000e+00,  1.4814e+06,  4.7254e+06,\n",
       "         4.2215e+05, -3.6580e+03, -3.7363e+05,  1.1310e+05,  2.9453e+06,\n",
       "         2.6972e+04,  1.8024e+04,  1.4744e+06, -1.2700e+03,  4.7890e+05,\n",
       "         1.6969e+06, -3.9577e+05,  2.5105e+05,  1.3427e+06,  3.7319e+06,\n",
       "         4.8380e+06, -3.1342e+05,  8.6349e+05,  5.6636e+06, -2.9430e+04,\n",
       "         2.3904e+06,  1.7880e+04, -2.8354e+05,  1.1785e+06,  1.0070e+06,\n",
       "         3.5300e+04,  0.0000e+00,  7.3232e+04,  1.1922e+06,  3.3322e+05,\n",
       "         2.8544e+05, -1.1650e+03,  0.0000e+00,  4.1767e+05, -2.8645e+04,\n",
       "         1.0210e+05,  7.2360e+03,  8.6546e+05,  6.4155e+04,  1.2056e+04,\n",
       "         1.4370e+06,  0.0000e+00,  4.6613e+04, -2.0400e+03,  3.8432e+06,\n",
       "        -1.2600e+02,  6.9012e+05,  3.7732e+06, -4.9950e+03,  1.2652e+05,\n",
       "         2.7799e+05, -8.8840e+03,  1.3100e+02,  0.0000e+00,  1.3718e+06,\n",
       "        -3.5856e+04, -5.8900e+02,  1.6224e+06,  4.2063e+06,  6.3720e+03,\n",
       "         6.0977e+06,  1.5596e+05,  7.5600e+03,  1.6430e+05, -2.5300e+03,\n",
       "         0.0000e+00,  2.9924e+05,  9.5915e+05,  6.1383e+04,  4.4720e+03,\n",
       "         8.7480e+03,  1.6880e+03,  1.2281e+05,  1.1907e+04,  1.5750e+04,\n",
       "         2.8980e+04,  2.3393e+05,  1.4963e+06,  5.3525e+04,  1.1484e+05,\n",
       "        -3.8880e+03,  6.8705e+04, -7.5130e+03,  4.4240e+03,  2.4159e+05,\n",
       "        -1.0715e+05,  0.0000e+00, -9.5796e+04,  1.0291e+05,  8.4600e+02,\n",
       "         2.7394e+06,  2.2604e+05,  1.4393e+05,  2.1788e+04, -2.6082e+04,\n",
       "        -7.0357e+04,  4.1268e+04,  3.4245e+05,  6.6613e+06,  3.8430e+03,\n",
       "        -5.2000e+01, -1.6000e+03,  9.8280e+03, -2.4840e+03,  6.2381e+04,\n",
       "         4.2182e+05,  1.7685e+06, -3.5530e+03,  0.0000e+00,  2.3283e+04,\n",
       "         1.4926e+06,  1.3323e+06,  6.3882e+05,  2.5926e+05,  8.0680e+05,\n",
       "         2.8594e+06,  3.2303e+05,  0.0000e+00, -2.5934e+05,  1.8215e+05,\n",
       "         6.0780e+04,  1.3171e+05,  5.4837e+05,  9.9545e+05, -9.1800e+02,\n",
       "         0.0000e+00,  0.0000e+00, -5.0980e+04,  4.1540e+04,  4.7369e+04,\n",
       "         6.1728e+04,  1.1613e+06,  3.2400e+02,  1.4702e+06,  1.8024e+06,\n",
       "         0.0000e+00,  2.0757e+06,  0.0000e+00,  2.4276e+05, -1.9180e+05,\n",
       "        -9.1960e+04,  4.4739e+06,  1.6654e+06, -3.1848e+05, -3.7600e+02,\n",
       "        -1.0035e+05,  5.4378e+04, -4.1548e+04, -1.1940e+03,  1.1465e+06,\n",
       "         1.3265e+05,  1.1240e+03,  7.0200e+02,  4.7754e+06,  1.4600e+02,\n",
       "        -7.5760e+03,  3.9230e+05,  1.0680e+03,  3.8666e+05,  5.1296e+04,\n",
       "        -5.9296e+04, -9.9900e+02,  2.3667e+06,  1.6813e+06,  2.4822e+04,\n",
       "         1.1573e+06,  1.5313e+06,  9.0410e+05,  2.5194e+06,  2.8835e+04,\n",
       "         8.0398e+05,  1.0242e+04,  9.3368e+05,  2.0736e+04, -2.8164e+05,\n",
       "        -2.6082e+04,  8.5223e+05,  2.1188e+06,  1.6232e+05,  1.0584e+04,\n",
       "         1.1907e+04,  2.3065e+06,  3.4337e+05,  9.6072e+04,  9.2855e+04,\n",
       "         0.0000e+00, -8.3500e+03,  2.2673e+04,  2.2825e+06,  3.6073e+06,\n",
       "         6.1587e+05,  0.0000e+00,  3.2900e+03,  6.6608e+05,  4.0986e+04,\n",
       "         6.7158e+04,  2.1055e+06,  7.6410e+04,  1.1007e+06,  7.3058e+05,\n",
       "         2.4806e+06,  3.0474e+05, -2.0003e+05,  5.1225e+04,  1.1298e+06,\n",
       "         1.4242e+06,  3.9161e+06,  1.1305e+06,  2.9360e+03,  1.0734e+06,\n",
       "         2.3849e+06,  6.5000e+01,  1.6675e+05,  2.7486e+06, -9.4402e+04,\n",
       "         5.1575e+04,  3.0908e+04, -8.8560e+04, -2.5110e+03,  1.6865e+06,\n",
       "        -8.2600e+03,  6.6078e+05,  4.9832e+04,  1.4295e+06,  0.0000e+00,\n",
       "        -2.9680e+03,  2.2311e+04,  2.3902e+06,  4.9904e+04,  2.3000e+02,\n",
       "         1.7381e+06,  6.8742e+04,  2.3279e+05,  5.0563e+06,  3.4074e+05,\n",
       "         9.1670e+04,  7.1333e+05,  0.0000e+00,  3.5663e+06,  8.3510e+04,\n",
       "         1.8024e+04,  1.5591e+05,  1.1059e+05,  8.7494e+05, -2.8360e+03,\n",
       "        -3.8718e+04,  1.9432e+05,  5.4504e+06,  3.9814e+06, -3.1150e+03,\n",
       "        -1.4220e+04,  2.3994e+06,  5.9773e+05, -6.6640e+03,  1.8761e+06,\n",
       "         1.3133e+05,  2.9520e+04,  1.2992e+04,  4.6400e+05,  8.2290e+05,\n",
       "        -1.0260e+03,  7.6419e+04,  0.0000e+00,  4.4910e+05,  2.1788e+06,\n",
       "         3.9560e+06,  1.5191e+06, -4.5100e+02,  8.5223e+05,  2.5424e+04,\n",
       "         1.3158e+04,  2.0499e+05,  2.7454e+05,  1.0730e+06,  7.4861e+05,\n",
       "        -1.2372e+05, -1.7214e+05,  2.5935e+05,  9.0524e+04,  3.0621e+05,\n",
       "         4.1688e+04,  7.4525e+04,  0.0000e+00, -3.7800e+02,  1.2590e+06,\n",
       "         2.7113e+05,  6.3200e+02,  4.3400e+02, -4.4933e+05,  3.4254e+06,\n",
       "        -5.1700e+02,  4.3762e+05,  2.3078e+05,  1.9200e+02,  5.6693e+04,\n",
       "         7.2360e+03,  1.8800e+02,  6.3180e+04,  2.0300e+03,  2.5947e+04,\n",
       "         2.7799e+05, -2.4000e+02,  9.5035e+05,  1.0433e+05,  1.3415e+04,\n",
       "         1.7000e+01,  5.1559e+05,  2.5998e+05,  5.8449e+05, -6.5395e+04,\n",
       "         2.2056e+06, -7.4200e+02,  2.1471e+06,  2.2800e+02, -3.4300e+02,\n",
       "         1.7678e+05,  1.1945e+05, -4.3000e+02,  6.9360e+03,  9.9533e+05,\n",
       "         2.6838e+05,  3.1448e+06,  1.0767e+06,  2.1854e+05,  4.6662e+04,\n",
       "         2.8877e+06,  0.0000e+00,  5.2920e+03,  2.6855e+05, -1.8292e+04,\n",
       "        -7.5130e+03,  1.4926e+06,  3.1918e+05,  8.4811e+05, -7.6120e+03,\n",
       "        -4.0300e+02, -1.6710e+05,  1.1624e+05,  2.7185e+06,  2.7000e+03,\n",
       "         0.0000e+00,  1.7707e+05,  3.3747e+05,  2.1168e+04, -4.4625e+05,\n",
       "         1.2910e+05,  5.2100e+02,  1.4814e+06, -8.1367e+04,  7.6086e+04,\n",
       "        -7.0900e+03,  1.2397e+06,  4.0560e+03,  1.1165e+05,  1.5412e+05,\n",
       "         7.3032e+04, -2.8240e+03,  4.1116e+05,  5.6056e+06,  0.0000e+00,\n",
       "        -3.3376e+04,  5.5636e+05,  0.0000e+00,  4.6980e+04,  4.8612e+04])"
      ]
     },
     "execution_count": 98,
     "metadata": {},
     "output_type": "execute_result"
    }
   ],
   "source": [
    "label"
   ]
  },
  {
   "cell_type": "code",
   "execution_count": 100,
   "id": "c6b6ab00-79f6-4ac9-b279-93c9384c9e90",
   "metadata": {},
   "outputs": [
    {
     "data": {
      "text/plain": [
       "tensor([19., 14., 12.])"
      ]
     },
     "execution_count": 100,
     "metadata": {},
     "output_type": "execute_result"
    }
   ],
   "source": [
    "feature[:,150]"
   ]
  },
  {
   "cell_type": "code",
   "execution_count": 101,
   "id": "6a10752c-8ac9-4c80-8765-4c5847be73d6",
   "metadata": {},
   "outputs": [
    {
     "data": {
      "text/plain": [
       "tensor(2859360.)"
      ]
     },
     "execution_count": 101,
     "metadata": {},
     "output_type": "execute_result"
    }
   ],
   "source": [
    "label[150] "
   ]
  },
  {
   "cell_type": "code",
   "execution_count": 103,
   "id": "fe29ccac-fd80-4870-a50e-9f20f3e6c047",
   "metadata": {},
   "outputs": [
    {
     "data": {
      "text/plain": [
       "125506260"
      ]
     },
     "execution_count": 103,
     "metadata": {},
     "output_type": "execute_result"
    }
   ],
   "source": [
    "data_generation(18,66,94)"
   ]
  },
  {
   "cell_type": "code",
   "execution_count": 104,
   "id": "eb3b92dd-5daf-4344-b953-53c21f7ca545",
   "metadata": {},
   "outputs": [],
   "source": [
    "import torch.nn as nn \n",
    "import torch.nn.functional as F\n",
    "\n",
    "class Net_app(nn.Module):\n",
    "    def __init__(self, input_dim, hidden1_dim, hidden2_dim, output_dim):\n",
    "        super(Net_app,self).__init__()\n",
    "        self.hidden1 = nn.Linear(input_dim, hidden1_dim)\n",
    "        self.hidden2 = nn.Linear(hidden1_dim, hidden2_dim)\n",
    "        self.output = nn.Linear(hidden2_dim, output_dim)\n",
    "\n",
    "    def forward(self, x):\n",
    "        x = F.relu(self.hidden1(x))\n",
    "        x = F.relu(self.hidden2(x))\n",
    "        x = self.output(x)\n",
    "        return(x)"
   ]
  },
  {
   "cell_type": "code",
   "execution_count": 265,
   "id": "1a10d7c5-b125-48d0-8544-11dea516b566",
   "metadata": {},
   "outputs": [],
   "source": [
    "torch.manual_seed(42)\n",
    "model = Net_app(3,4,3,1)"
   ]
  },
  {
   "cell_type": "code",
   "execution_count": 254,
   "id": "cdac833a-714d-4457-b034-5fbc82f862a3",
   "metadata": {},
   "outputs": [
    {
     "data": {
      "text/plain": [
       "OrderedDict([('hidden1.weight',\n",
       "              tensor([[ 0.4414,  0.4792, -0.1353],\n",
       "                      [ 0.5304, -0.1265,  0.1165],\n",
       "                      [-0.2811,  0.3391,  0.5090],\n",
       "                      [-0.4236,  0.5018,  0.1081]])),\n",
       "             ('hidden1.bias', tensor([ 0.4266,  0.0782,  0.2784, -0.0815])),\n",
       "             ('hidden2.weight',\n",
       "              tensor([[ 0.3854,  0.0739, -0.2334,  0.1274],\n",
       "                      [-0.2304, -0.0586, -0.2031,  0.3317],\n",
       "                      [-0.3947, -0.2305, -0.1412, -0.3006]])),\n",
       "             ('hidden2.bias', tensor([ 0.0472, -0.4938,  0.4516])),\n",
       "             ('output.weight', tensor([[-0.4904,  0.4457,  0.0961]])),\n",
       "             ('output.bias', tensor([-0.1875]))])"
      ]
     },
     "execution_count": 254,
     "metadata": {},
     "output_type": "execute_result"
    }
   ],
   "source": [
    "model.state_dict()"
   ]
  },
  {
   "cell_type": "code",
   "execution_count": 266,
   "id": "61be4197-296d-4c15-8469-e9639467162d",
   "metadata": {},
   "outputs": [],
   "source": [
    "# training loop \n",
    "\n",
    "optimizer = torch.optim.SGD(model.parameters(), lr=0.1)\n",
    "criterion = torch.nn.MSELoss()\n",
    "\n",
    "lossi = []\n",
    "stepi = []\n",
    "counter = 0\n",
    "batch_size = 128\n",
    "\n",
    "model.train()\n",
    "for epoch in range(5):\n",
    "    for i in range(feature.size(1) - batch_size + 1):\n",
    "        input_data = feature[:, i:i + batch_size].T  \n",
    "        output_data = label[i:i + batch_size]       \n",
    "        predict = model(input_data)\n",
    "        loss = criterion(predict, output_data)\n",
    "        optimizer.zero_grad()\n",
    "        loss.backward()\n",
    "        optimizer.step()\n",
    "        lossi.append(loss.item())\n",
    "        stepi.append(counter)\n",
    "        counter += 1\n"
   ]
  },
  {
   "cell_type": "code",
   "execution_count": 267,
   "id": "dc96105b-0fe6-4ab5-b0f4-5484dc6d399b",
   "metadata": {},
   "outputs": [
    {
     "data": {
      "text/plain": [
       "[<matplotlib.lines.Line2D at 0x17da56c4910>]"
      ]
     },
     "execution_count": 267,
     "metadata": {},
     "output_type": "execute_result"
    },
    {
     "data": {
      "image/png": "[encoded data removed]",
      "text/plain": [
       "<Figure size 640x480 with 1 Axes>"
      ]
     },
     "metadata": {},
     "output_type": "display_data"
    }
   ],
   "source": [
    "import matplotlib.pyplot as plt\n",
    "plt.plot(stepi, lossi)"
   ]
  },
  {
   "cell_type": "code",
   "execution_count": 268,
   "id": "e6bf43ef-9ab3-437d-808c-84eed828294c",
   "metadata": {},
   "outputs": [
    {
     "data": {
      "text/plain": [
       "tensor([[ 2., 11.,  6.],\n",
       "        [ 6.,  3.,  8.],\n",
       "        [ 9., 11.,  9.],\n",
       "        [ 4.,  8.,  2.],\n",
       "        [18.,  4.,  6.]])"
      ]
     },
     "execution_count": 268,
     "metadata": {},
     "output_type": "execute_result"
    }
   ],
   "source": [
    "feature[:,10:15].T"
   ]
  },
  {
   "cell_type": "code",
   "execution_count": 269,
   "id": "8112f49f-42db-4355-9167-ea28197f61e4",
   "metadata": {},
   "outputs": [
    {
     "data": {
      "text/plain": [
       "tensor([19., 14., 12.])"
      ]
     },
     "execution_count": 269,
     "metadata": {},
     "output_type": "execute_result"
    }
   ],
   "source": [
    "feature[:,150]"
   ]
  },
  {
   "cell_type": "code",
   "execution_count": 270,
   "id": "59d872c6-dfd8-46c1-b0d8-e175b04112fe",
   "metadata": {},
   "outputs": [
    {
     "data": {
      "text/plain": [
       "tensor(2859360.)"
      ]
     },
     "execution_count": 270,
     "metadata": {},
     "output_type": "execute_result"
    }
   ],
   "source": [
    "label[150]"
   ]
  },
  {
   "cell_type": "code",
   "execution_count": 271,
   "id": "301a9561-b669-4163-9f3d-dba7d4410344",
   "metadata": {},
   "outputs": [
    {
     "data": {
      "text/plain": [
       "tensor([557644.7500], grad_fn=<ViewBackward0>)"
      ]
     },
     "execution_count": 271,
     "metadata": {},
     "output_type": "execute_result"
    }
   ],
   "source": [
    "model(feature[:,150])"
   ]
  },
  {
   "cell_type": "code",
   "execution_count": null,
   "id": "ad925cc7-332e-4e52-a501-0f8af9fa5822",
   "metadata": {},
   "outputs": [],
   "source": []
  },
  {
   "cell_type": "code",
   "execution_count": null,
   "id": "7350c6ec-5248-42b6-9124-fadbc6995e05",
   "metadata": {},
   "outputs": [],
   "source": []
  },
  {
   "cell_type": "code",
   "execution_count": null,
   "id": "dd6f0f48-0e69-4a18-88c1-6c6c7523459f",
   "metadata": {},
   "outputs": [],
   "source": []
  },
  {
   "cell_type": "code",
   "execution_count": null,
   "id": "e24a2fe9-9c57-49e1-a2b1-c5a7fd578d1b",
   "metadata": {},
   "outputs": [],
   "source": []
  },
  {
   "cell_type": "code",
   "execution_count": null,
   "id": "ba8e17da-bd2b-40eb-8f67-96a2cfd8e8c1",
   "metadata": {},
   "outputs": [],
   "source": []
  },
  {
   "cell_type": "code",
   "execution_count": null,
   "id": "7307e09a-db40-4e3a-a6d1-d5a94a45c122",
   "metadata": {},
   "outputs": [],
   "source": []
  },
  {
   "cell_type": "code",
   "execution_count": null,
   "id": "da916b2e-a230-4b42-8872-4ea8d520bbfd",
   "metadata": {},
   "outputs": [],
   "source": []
  },
  {
   "cell_type": "code",
   "execution_count": null,
   "id": "3c2386c4-2505-4afa-88ba-d68e4e4c0fe2",
   "metadata": {},
   "outputs": [],
   "source": []
  },
  {
   "cell_type": "code",
   "execution_count": null,
   "id": "f7ee109e-f2ed-4f58-ba54-f5e55d749d25",
   "metadata": {},
   "outputs": [],
   "source": []
  },
  {
   "cell_type": "code",
   "execution_count": null,
   "id": "57ee329a-09d3-4d61-9cea-4ef93c2b8503",
   "metadata": {},
   "outputs": [],
   "source": []
  },
  {
   "cell_type": "code",
   "execution_count": null,
   "id": "e7ba6331-9ac3-44f2-be80-144e9ddc14db",
   "metadata": {},
   "outputs": [],
   "source": []
  },
  {
   "cell_type": "code",
   "execution_count": null,
   "id": "299f5c0d-fa7b-4d6b-96dc-108ff62adeff",
   "metadata": {},
   "outputs": [],
   "source": []
  },
  {
   "cell_type": "code",
   "execution_count": null,
   "id": "27f019ea-23f8-4b14-9cfe-5bfc3007cf18",
   "metadata": {},
   "outputs": [],
   "source": []
  }
 ],
 "metadata": {
  "kernelspec": {
   "display_name": "Python 3 (ipykernel)",
   "language": "python",
   "name": "python3"
  },
  "language_info": {
   "codemirror_mode": {
    "name": "ipython",
    "version": 3
   },
   "file_extension": ".py",
   "mimetype": "text/x-python",
   "name": "python",
   "nbconvert_exporter": "python",
   "pygments_lexer": "ipython3",
   "version": "3.13.7"
  }
 },
 "nbformat": 4,
 "nbformat_minor": 5
}
